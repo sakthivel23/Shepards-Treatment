{
 "cells": [
  {
   "cell_type": "code",
   "execution_count": 4,
   "metadata": {},
   "outputs": [
    {
     "name": "stdout",
     "output_type": "stream",
     "text": [
      "/Users/sakthivel/lexisnexis/citations_class/06_14_new.xml\n"
     ]
    }
   ],
   "source": [
    "from bs4 import BeautifulSoup, BeautifulStoneSoup\n",
    "import pandas as pd\n",
    "import os\n",
    "\n",
    "##get all the XML files frorm the citation_class folder\n",
    "def get_xml_files(path):\n",
    "    xml_list = []\n",
    "    for filename in os.listdir(path):\n",
    "        if filename.endswith(\".xml\"):\n",
    "            xml_list.append(os.path.join(path, filename))\n",
    "    return xml_list\n",
    "\n",
    "\n",
    "a = get_xml_files(\"/Users/sakthivel/lexisnexis/citations_class/\")\n",
    "\n",
    "\n",
    "classes=[]\n",
    "tocase = []\n",
    "text =[]\n",
    "ids=[]\n",
    "file=[]\n",
    "\n",
    "#loop on the entire XML to get the XML node values from each of the citation\n",
    "for i in a:\n",
    "    print(i)\n",
    "    infile = open(i, \"r\")\n",
    "    xml_content = infile.read()\n",
    "    soup = BeautifulSoup(xml_content, 'xml')\n",
    "    for citation in soup.find_all('citation'):\n",
    "        classes.append(citation.find('class'))\n",
    "        citation_attr = dict(citation.attrs)\n",
    "        tocase.append(citation.find('tocase'))\n",
    "        text.append(citation.find('text'))\n",
    "        ids.append(citation_attr.get('id'))      \n",
    "\n",
    "data = pd.DataFrame()\n",
    "\n",
    "data['classes']=classes\n",
    "data['tocase']=tocase\n",
    "data['text']=text\n",
    "data['ids']=ids\n",
    "\n",
    "#save it in CSV file.\n",
    "data.to_csv(\"Data.csv\")\n"
   ]
  }
 ],
 "metadata": {
  "kernelspec": {
   "display_name": "Python (myenv)",
   "language": "python",
   "name": "myenv"
  },
  "language_info": {
   "codemirror_mode": {
    "name": "ipython",
    "version": 3
   },
   "file_extension": ".py",
   "mimetype": "text/x-python",
   "name": "python",
   "nbconvert_exporter": "python",
   "pygments_lexer": "ipython3",
   "version": "3.7.3"
  }
 },
 "nbformat": 4,
 "nbformat_minor": 2
}
